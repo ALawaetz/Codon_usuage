{
 "cells": [
  {
   "cell_type": "code",
   "execution_count": 1,
   "metadata": {},
   "outputs": [],
   "source": [
    "from Bio import SeqIO\n",
    "from Bio.Seq import Seq\n",
    "import gff3\n",
    "import pandas as pd\n",
    "import os\n",
    "import statistics as stat\n",
    "import random\n",
    "import subprocess\n",
    "import matplotlib.pyplot as plt\n",
    "from scipy.stats import fisher_exact"
   ]
  },
  {
   "cell_type": "code",
   "execution_count": 42,
   "metadata": {},
   "outputs": [],
   "source": [
    "### your fasta sequence file\n",
    "fasta_file = '/Users/andreas/Streptomyces/S_coelicolor_A3_2_AL645882.2.fasta'\n",
    "### you gff3 file\n",
    "gff3_file = '/Users/andreas/Streptomyces/S_coelicolor_A3_2_AL645882.2_cleaned.gff3'\n",
    "gff3 = pd.read_csv(gff3_file, sep = '\\t', names = ['ID', 'source', 'feature', 'start', 'end', 'score', 'strand', 'phase', 'attributes'])\n",
    "\n",
    "### output file name\n",
    "output_file = '/Users/andreas/Streptomyces/TTA_genes.txt'"
   ]
  },
  {
   "cell_type": "code",
   "execution_count": 37,
   "metadata": {},
   "outputs": [],
   "source": [
    "### load fasta file\n",
    "with open(fasta_file, 'r') as f:\n",
    "    lines = f.readlines()\n",
    "    lines = lines[1:]\n",
    "    lines = [l.replace('\\n', '') for l in lines]\n",
    "    lines = ''.join(lines)\n",
    "\n",
    "### function to reverse complement genes on reverse strand\n",
    "def reverse_complement(sequence):\n",
    "    complement_dict = {'A': 'T', 'T': 'A', 'C': 'G', 'G': 'C'}\n",
    "    reverse_seq = sequence[::-1]\n",
    "    complement_seq = ''.join([complement_dict[base] for base in reverse_seq])\n",
    "    return complement_seq\n",
    "\n",
    "### Function to find check if DNA sequence contain a certain codon in the correct reading frame\n",
    "def find_codon(DNA_sequence, codon):\n",
    "    seq = Seq(DNA_sequence)\n",
    "    codon_list = [DNA_sequence[i:i+3] for i in range(0, len(DNA_sequence), 3)]\n",
    "    the_count = codon_list.count(codon)\n",
    "    return the_count"
   ]
  },
  {
   "cell_type": "code",
   "execution_count": 38,
   "metadata": {},
   "outputs": [],
   "source": [
    "### make dataframe with fasta sequences for all coding genes\n",
    "fasta_sequences = []\n",
    "CDS_df = pd.DataFrame()\n",
    "for index, row in gff3.iterrows():\n",
    "    if row['feature'] == 'CDS':\n",
    "        if row['strand'] == '+':\n",
    "            fasta_sequences.append(lines[row['start'] - 1:row['end']])\n",
    "        else:\n",
    "            fasta_sequences.append(reverse_complement(lines[row['start'] - 1:row['end']]))\n",
    "        CDS_df = pd.concat([CDS_df, gff3[gff3.index == index]])\n",
    "        # attributes.append(row['attributes'])\n",
    "        # locus_tags.append(f\"{row['start']}_{row['end']}_{row['strand']}\")\n",
    "\n",
    "CDS_df['fasta'] = fasta_sequences"
   ]
  },
  {
   "cell_type": "code",
   "execution_count": 39,
   "metadata": {},
   "outputs": [],
   "source": [
    "### find genes with codon: TTA\n",
    "TTA_genes = pd.DataFrame()\n",
    "counts = []\n",
    "for index, row in CDS_df.iterrows():\n",
    "    if find_codon(row['fasta'], 'TTA') != 0:\n",
    "        TTA_genes = pd.concat([TTA_genes, CDS_df[CDS_df.index == index]], ignore_index = True)\n",
    "        counts.append(find_codon(row['fasta'], 'TTA'))\n",
    "TTA_genes['n_TTA'] = counts"
   ]
  },
  {
   "cell_type": "code",
   "execution_count": 70,
   "metadata": {},
   "outputs": [],
   "source": [
    "### extract gene names or gene synonoms from dataframe\n",
    "def extract_names(attributes, id, exclude):\n",
    "    thelist = []\n",
    "    for att in attributes:\n",
    "        att_list = att.split(';')\n",
    "        x = 0\n",
    "        for a in att_list:\n",
    "            if a.find(id) == 0 and exclude not in a:\n",
    "                thelist.append(a[len(id) + 1:])\n",
    "                x += 1\n",
    "                break\n",
    "        if x == 0:\n",
    "            thelist.append(f'no_{id}_name')\n",
    "    return thelist\n",
    "\n",
    "def extract_uni(attributes, id):\n",
    "    thelist = []\n",
    "    for att in attributes:\n",
    "        n = att.find(id)\n",
    "        if n != -1:\n",
    "            thelist.append(att[n + len(id) + 1: n + len(id) + 7])\n",
    "        else:\n",
    "            thelist.append('no_uniprot_id')\n",
    "    return thelist\n",
    "\n",
    "TTA_genes['gene'] = extract_names(TTA_genes['attributes'], 'gene', 'gene_synonym')\n",
    "TTA_genes['gene_synonym'] = gene_synonyms = extract_names(TTA_genes['attributes'], 'gene_synonym', '@')\n",
    "TTA_genes['uniprot'] = extract_uni(TTA_genes['attributes'], 'UniProtKB/TrEMBL')\n"
   ]
  },
  {
   "cell_type": "code",
   "execution_count": 72,
   "metadata": {},
   "outputs": [],
   "source": [
    "### save TTA genes as file\n",
    "TTA_genes.to_csv(output_file, sep = '\\t', header = True, index = False)"
   ]
  },
  {
   "cell_type": "code",
   "execution_count": 73,
   "metadata": {},
   "outputs": [],
   "source": [
    "TTA_genes['uniprot'].to_csv(output_file + '_unitprot.txt', sep = '\\t', header = False, index = False)"
   ]
  },
  {
   "cell_type": "code",
   "execution_count": null,
   "metadata": {},
   "outputs": [],
   "source": []
  }
 ],
 "metadata": {
  "kernelspec": {
   "display_name": "base",
   "language": "python",
   "name": "python3"
  },
  "language_info": {
   "codemirror_mode": {
    "name": "ipython",
    "version": 3
   },
   "file_extension": ".py",
   "mimetype": "text/x-python",
   "name": "python",
   "nbconvert_exporter": "python",
   "pygments_lexer": "ipython3",
   "version": "3.9.17"
  }
 },
 "nbformat": 4,
 "nbformat_minor": 2
}
